{
 "cells": [
  {
   "cell_type": "markdown",
   "metadata": {
    "collapsed": true
   },
   "source": [
    "# Learning \n",
    "\n",
    "This notebook contatins some simple examples of using *Jupyter Notebook* and *Python3*\n",
    "\n"
   ]
  },
  {
   "cell_type": "code",
   "execution_count": 4,
   "metadata": {},
   "outputs": [
    {
     "name": "stdout",
     "output_type": "stream",
     "text": [
      "Hello, Jerry\n\n"
     ]
    }
   ],
   "source": [
    "my_name = \"Jerry\"\n",
    "hello_statement = \"Hello, \" + my_name\n",
    "print(hello_statement, end='\\n\\n')\n",
    "x = 10\n"
   ]
  },
  {
   "cell_type": "markdown",
   "metadata": {
    "collapsed": true
   },
   "source": [
    "Example 2: Worlds *best* loop is here"
   ]
  },
  {
   "cell_type": "code",
   "execution_count": 5,
   "metadata": {},
   "outputs": [
    {
     "name": "stdout",
     "output_type": "stream",
     "text": [
      "j=1 x=11\nj=2 x=13\nj=3 x=16\nj=4 x=20\n"
     ]
    }
   ],
   "source": [
    "for j in range(1, 5):\n",
    "    x = x + j\n",
    "    print(\"j={0} x={1}\".format(j, x))"
   ]
  },
  {
   "cell_type": "code",
   "execution_count": null,
   "metadata": {},
   "outputs": [],
   "source": []
  }
 ],
 "metadata": {
  "kernelspec": {
   "display_name": "Python 3",
   "language": "python",
   "name": "python3"
  },
  "language_info": {
   "codemirror_mode": {
    "name": "ipython",
    "version": 3
   },
   "file_extension": ".py",
   "mimetype": "text/x-python",
   "name": "python",
   "nbconvert_exporter": "python",
   "pygments_lexer": "ipython3",
   "version": "3.6.1"
  }
 },
 "nbformat": 4,
 "nbformat_minor": 1
}
